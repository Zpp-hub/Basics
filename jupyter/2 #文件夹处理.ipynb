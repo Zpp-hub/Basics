{
 "cells": [
  {
   "cell_type": "markdown",
   "metadata": {},
   "source": [
    "# 文件夹os相关"
   ]
  },
  {
   "cell_type": "code",
   "execution_count": 4,
   "metadata": {},
   "outputs": [],
   "source": [
    "import os\n",
    "import os.path as osp\n",
    "import shutil\n",
    "\n",
    "os.chdir('/home/zpp/Sample_files/accumulate')"
   ]
  },
  {
   "cell_type": "code",
   "execution_count": 6,
   "metadata": {},
   "outputs": [
    {
     "data": {
      "text/plain": [
       "'posix'"
      ]
     },
     "execution_count": 6,
     "metadata": {},
     "output_type": "execute_result"
    }
   ],
   "source": [
    "# 显示当前使用平台　ｌｉｎｕｘ\n",
    "os.name"
   ]
  },
  {
   "cell_type": "code",
   "execution_count": 10,
   "metadata": {
    "scrolled": false
   },
   "outputs": [
    {
     "data": {
      "text/plain": [
       "['write.jpg',\n",
       " 'file',\n",
       " 'read.jpg',\n",
       " 'read.csv',\n",
       " 'write.csv',\n",
       " 'write.json',\n",
       " 'read.txt',\n",
       " 'read.conf',\n",
       " 'write.txt',\n",
       " 'read.json']"
      ]
     },
     "execution_count": 10,
     "metadata": {},
     "output_type": "execute_result"
    }
   ],
   "source": [
    "# 当前路径下的所有文件\n",
    "os.listdir()"
   ]
  },
  {
   "cell_type": "code",
   "execution_count": 7,
   "metadata": {},
   "outputs": [
    {
     "data": {
      "text/plain": [
       "'/home/zpp/Sample_files/accumulate'"
      ]
     },
     "execution_count": 7,
     "metadata": {},
     "output_type": "execute_result"
    }
   ],
   "source": [
    "# 显示当前python脚本工作路径\n",
    "os.getcwd()"
   ]
  },
  {
   "cell_type": "code",
   "execution_count": null,
   "metadata": {},
   "outputs": [],
   "source": [
    "# 删除一个文件\n",
    "os.remove('filename') \n",
    "os.rmdir('dirname')　#删除单级目录"
   ]
  },
  {
   "cell_type": "code",
   "execution_count": 13,
   "metadata": {},
   "outputs": [],
   "source": [
    "# 新建一个文件\n",
    "os.makedirs('file/file_2') "
   ]
  },
  {
   "cell_type": "code",
   "execution_count": null,
   "metadata": {},
   "outputs": [],
   "source": [
    "# 重命名文件\n",
    "os.rename(\"oldname\",\"newname\") "
   ]
  },
  {
   "cell_type": "code",
   "execution_count": 15,
   "metadata": {
    "collapsed": true
   },
   "outputs": [
    {
     "data": {
      "text/plain": [
       "environ{'CLICOLOR': '1',\n",
       "        'CLUTTER_IM_MODULE': 'xim',\n",
       "        'COMPIZ_BIN_PATH': '/usr/bin/',\n",
       "        'COMPIZ_CONFIG_PROFILE': 'ubuntu',\n",
       "        'DBUS_SESSION_BUS_ADDRESS': 'unix:abstract=/tmp/dbus-aFYHRhwOpT',\n",
       "        'DEFAULTS_PATH': '/usr/share/gconf/ubuntu.default.path',\n",
       "        'DESKTOP_SESSION': 'ubuntu',\n",
       "        'DISPLAY': ':0',\n",
       "        'GDMSESSION': 'ubuntu',\n",
       "        'GDM_LANG': 'en_US',\n",
       "        'GIO_LAUNCHED_DESKTOP_FILE': '/home/zpp/.local/share/applications/jetbrains-pycharm-ce.desktop',\n",
       "        'GIO_LAUNCHED_DESKTOP_FILE_PID': '10035',\n",
       "        'GIT_PAGER': 'cat',\n",
       "        'GNOME_DESKTOP_SESSION_ID': 'this-is-deprecated',\n",
       "        'GNOME_KEYRING_CONTROL': '',\n",
       "        'GNOME_KEYRING_PID': '',\n",
       "        'GPG_AGENT_INFO': '/home/zpp/.gnupg/S.gpg-agent:0:1',\n",
       "        'GTK2_MODULES': 'overlay-scrollbar',\n",
       "        'GTK_IM_MODULE': 'fcitx',\n",
       "        'GTK_MODULES': 'gail:atk-bridge:unity-gtk-module',\n",
       "        'HOME': '/home/zpp',\n",
       "        'IM_CONFIG_PHASE': '1',\n",
       "        'INSTANCE': '',\n",
       "        'JOB': 'unity-settings-daemon',\n",
       "        'JPY_PARENT_PID': '11408',\n",
       "        'KERNEL_LAUNCH_TIMEOUT': '40',\n",
       "        'LANG': 'en_US.UTF-8',\n",
       "        'LANGUAGE': 'en_US',\n",
       "        'LC_ADDRESS': 'zh_CN.UTF-8',\n",
       "        'LC_IDENTIFICATION': 'zh_CN.UTF-8',\n",
       "        'LC_MEASUREMENT': 'zh_CN.UTF-8',\n",
       "        'LC_MONETARY': 'zh_CN.UTF-8',\n",
       "        'LC_NAME': 'zh_CN.UTF-8',\n",
       "        'LC_NUMERIC': 'zh_CN.UTF-8',\n",
       "        'LC_PAPER': 'zh_CN.UTF-8',\n",
       "        'LC_TELEPHONE': 'zh_CN.UTF-8',\n",
       "        'LC_TIME': 'zh_CN.UTF-8',\n",
       "        'LESSCLOSE': '/usr/bin/lesspipe %s %s',\n",
       "        'LESSOPEN': '| /usr/bin/lesspipe %s',\n",
       "        'LOGNAME': 'zpp',\n",
       "        'LS_COLORS': 'rs=0:di=01;34:ln=01;36:mh=00:pi=40;33:so=01;35:do=01;35:bd=40;33;01:cd=40;33;01:or=40;31;01:mi=00:su=37;41:sg=30;43:ca=30;41:tw=30;42:ow=34;42:st=37;44:ex=01;32:*.tar=01;31:*.tgz=01;31:*.arc=01;31:*.arj=01;31:*.taz=01;31:*.lha=01;31:*.lz4=01;31:*.lzh=01;31:*.lzma=01;31:*.tlz=01;31:*.txz=01;31:*.tzo=01;31:*.t7z=01;31:*.zip=01;31:*.z=01;31:*.Z=01;31:*.dz=01;31:*.gz=01;31:*.lrz=01;31:*.lz=01;31:*.lzo=01;31:*.xz=01;31:*.bz2=01;31:*.bz=01;31:*.tbz=01;31:*.tbz2=01;31:*.tz=01;31:*.deb=01;31:*.rpm=01;31:*.jar=01;31:*.war=01;31:*.ear=01;31:*.sar=01;31:*.rar=01;31:*.alz=01;31:*.ace=01;31:*.zoo=01;31:*.cpio=01;31:*.7z=01;31:*.rz=01;31:*.cab=01;31:*.jpg=01;35:*.jpeg=01;35:*.gif=01;35:*.bmp=01;35:*.pbm=01;35:*.pgm=01;35:*.ppm=01;35:*.tga=01;35:*.xbm=01;35:*.xpm=01;35:*.tif=01;35:*.tiff=01;35:*.png=01;35:*.svg=01;35:*.svgz=01;35:*.mng=01;35:*.pcx=01;35:*.mov=01;35:*.mpg=01;35:*.mpeg=01;35:*.m2v=01;35:*.mkv=01;35:*.webm=01;35:*.ogm=01;35:*.mp4=01;35:*.m4v=01;35:*.mp4v=01;35:*.vob=01;35:*.qt=01;35:*.nuv=01;35:*.wmv=01;35:*.asf=01;35:*.rm=01;35:*.rmvb=01;35:*.flc=01;35:*.avi=01;35:*.fli=01;35:*.flv=01;35:*.gl=01;35:*.dl=01;35:*.xcf=01;35:*.xwd=01;35:*.yuv=01;35:*.cgm=01;35:*.emf=01;35:*.ogv=01;35:*.ogx=01;35:*.aac=00;36:*.au=00;36:*.flac=00;36:*.m4a=00;36:*.mid=00;36:*.midi=00;36:*.mka=00;36:*.mp3=00;36:*.mpc=00;36:*.ogg=00;36:*.ra=00;36:*.wav=00;36:*.oga=00;36:*.opus=00;36:*.spx=00;36:*.xspf=00;36:',\n",
       "        'MANDATORY_PATH': '/usr/share/gconf/ubuntu.mandatory.path',\n",
       "        'MPLBACKEND': 'module://ipykernel.pylab.backend_inline',\n",
       "        'PAGER': 'cat',\n",
       "        'PATH': '/home/zpp/PycharmProjects/accumulate/venv/bin:/home/zpp/bin:/home/zpp/.local/bin:/usr/local/sbin:/usr/local/bin:/usr/sbin:/usr/bin:/sbin:/bin:/usr/games:/usr/local/games:/snap/bin',\n",
       "        'PS1': '(venv) \\\\[\\\\e]0;\\\\u@\\\\h: \\\\w\\\\a\\\\]${debian_chroot:+($debian_chroot)}\\\\[\\\\033[01;32m\\\\]\\\\u@\\\\h\\\\[\\\\033[00m\\\\]:\\\\[\\\\033[01;34m\\\\]\\\\w\\\\[\\\\033[00m\\\\]\\\\$ ',\n",
       "        'PWD': '/home/zpp/PycharmProjects/accumulate',\n",
       "        'QT4_IM_MODULE': 'fcitx',\n",
       "        'QT_ACCESSIBILITY': '1',\n",
       "        'QT_IM_MODULE': 'fcitx',\n",
       "        'QT_LINUX_ACCESSIBILITY_ALWAYS_ON': '1',\n",
       "        'QT_QPA_PLATFORMTHEME': 'appmenu-qt5',\n",
       "        'SESSION': 'ubuntu',\n",
       "        'SESSIONTYPE': 'gnome-session',\n",
       "        'SESSION_MANAGER': 'local/zpp-virtual-machine:@/tmp/.ICE-unix/9056,unix/zpp-virtual-machine:/tmp/.ICE-unix/9056',\n",
       "        'SHELL': '/bin/bash',\n",
       "        'SHLVL': '1',\n",
       "        'SSH_AUTH_SOCK': '/run/user/1000/keyring/ssh',\n",
       "        'TERM': 'xterm-color',\n",
       "        'TERMINAL_EMULATOR': 'JetBrains-JediTerm',\n",
       "        'UNITY_DEFAULT_PROFILE': 'unity',\n",
       "        'UNITY_HAS_3D_SUPPORT': 'true',\n",
       "        'UPSTART_EVENTS': 'xsession started',\n",
       "        'UPSTART_INSTANCE': '',\n",
       "        'UPSTART_JOB': 'unity7',\n",
       "        'UPSTART_SESSION': 'unix:abstract=/com/ubuntu/upstart-session/1000/8820',\n",
       "        'USER': 'zpp',\n",
       "        'VIRTUAL_ENV': '/home/zpp/PycharmProjects/accumulate/venv',\n",
       "        'XAUTHORITY': '/home/zpp/.Xauthority',\n",
       "        'XDG_CONFIG_DIRS': '/etc/xdg/xdg-ubuntu:/usr/share/upstart/xdg:/etc/xdg',\n",
       "        'XDG_CURRENT_DESKTOP': 'Unity',\n",
       "        'XDG_DATA_DIRS': '/usr/share/ubuntu:/usr/share/gnome:/usr/local/share:/usr/share:/var/lib/snapd/desktop',\n",
       "        'XDG_GREETER_DATA_DIR': '/var/lib/lightdm-data/zpp',\n",
       "        'XDG_MENU_PREFIX': 'gnome-',\n",
       "        'XDG_RUNTIME_DIR': '/run/user/1000',\n",
       "        'XDG_SEAT': 'seat0',\n",
       "        'XDG_SEAT_PATH': '/org/freedesktop/DisplayManager/Seat0',\n",
       "        'XDG_SESSION_DESKTOP': 'ubuntu',\n",
       "        'XDG_SESSION_ID': 'c1',\n",
       "        'XDG_SESSION_PATH': '/org/freedesktop/DisplayManager/Session0',\n",
       "        'XDG_SESSION_TYPE': 'x11',\n",
       "        'XDG_VTNR': '7',\n",
       "        'XMODIFIERS': '@im=fcitx',\n",
       "        '_': '/home/zpp/PycharmProjects/accumulate/venv/bin/jupyter'}"
      ]
     },
     "execution_count": 15,
     "metadata": {},
     "output_type": "execute_result"
    }
   ],
   "source": [
    "# 获取系统环境变量\n",
    "os.environ"
   ]
  },
  {
   "cell_type": "code",
   "execution_count": 8,
   "metadata": {},
   "outputs": [
    {
     "name": "stdout",
     "output_type": "stream",
     "text": [
      "True\n"
     ]
    }
   ],
   "source": [
    "# 文件是否存在\n",
    "path = osp.exists('read.jpg')\n",
    "print(path)"
   ]
  },
  {
   "cell_type": "code",
   "execution_count": 17,
   "metadata": {
    "scrolled": true
   },
   "outputs": [
    {
     "data": {
      "text/plain": [
       "'/home/zpp/Sample_files/accumulate/read.jpg'"
      ]
     },
     "execution_count": 17,
     "metadata": {},
     "output_type": "execute_result"
    }
   ],
   "source": [
    "# 显示当前的绝对路径\n",
    "osp.abspath('read.jpg')"
   ]
  },
  {
   "cell_type": "code",
   "execution_count": 21,
   "metadata": {},
   "outputs": [
    {
     "data": {
      "text/plain": [
       "'file'"
      ]
     },
     "execution_count": 21,
     "metadata": {},
     "output_type": "execute_result"
    }
   ],
   "source": [
    "# 返回该路径的父目录\n",
    "osp.dirname('file/test.txt')"
   ]
  },
  {
   "cell_type": "code",
   "execution_count": 23,
   "metadata": {},
   "outputs": [
    {
     "data": {
      "text/plain": [
       "'test.txt'"
      ]
     },
     "execution_count": 23,
     "metadata": {},
     "output_type": "execute_result"
    }
   ],
   "source": [
    "# 返回该路径下的最后一个文件\n",
    "osp.basename('file/test.txt') "
   ]
  },
  {
   "cell_type": "code",
   "execution_count": 24,
   "metadata": {},
   "outputs": [
    {
     "data": {
      "text/plain": [
       "False"
      ]
     },
     "execution_count": 24,
     "metadata": {},
     "output_type": "execute_result"
    }
   ],
   "source": [
    "# 判断是否是文件\n",
    "osp.isfile('file')"
   ]
  },
  {
   "cell_type": "code",
   "execution_count": 26,
   "metadata": {},
   "outputs": [
    {
     "data": {
      "text/plain": [
       "True"
      ]
     },
     "execution_count": 26,
     "metadata": {},
     "output_type": "execute_result"
    }
   ],
   "source": [
    "# 判断是否是文件夹\n",
    "osp.isdir('file')"
   ]
  },
  {
   "cell_type": "code",
   "execution_count": 30,
   "metadata": {},
   "outputs": [
    {
     "data": {
      "text/plain": [
       "('file', 'test.txt')"
      ]
     },
     "execution_count": 30,
     "metadata": {},
     "output_type": "execute_result"
    }
   ],
   "source": [
    "# 将其分割成路径加文件\n",
    "osp.split('file/test.txt')"
   ]
  },
  {
   "cell_type": "code",
   "execution_count": 29,
   "metadata": {},
   "outputs": [
    {
     "data": {
      "text/plain": [
       "'file/test.txt'"
      ]
     },
     "execution_count": 29,
     "metadata": {},
     "output_type": "execute_result"
    }
   ],
   "source": [
    "# 连接路径家文件\n",
    "osp.join('file','test.txt')"
   ]
  },
  {
   "cell_type": "code",
   "execution_count": null,
   "metadata": {},
   "outputs": [],
   "source": [
    "# 打开文件进行复制\n",
    "f1=open('name','r')\n",
    "f2=open('name_copy','w+')\n",
    "shutil.copyfileobj(f1,f2,length=16*1024)"
   ]
  },
  {
   "cell_type": "code",
   "execution_count": null,
   "metadata": {},
   "outputs": [],
   "source": [
    "# 复制文件\n",
    "shutil.copy('old_path','new_path')"
   ]
  },
  {
   "cell_type": "code",
   "execution_count": null,
   "metadata": {},
   "outputs": [],
   "source": [
    "# 剪切文件\n",
    "shutil.move('old_path','new_path')"
   ]
  },
  {
   "cell_type": "code",
   "execution_count": null,
   "metadata": {},
   "outputs": [],
   "source": [
    "# base_name：压缩打包后的文件名或者路径名/format：压缩或者打包格式    \"zip\", \"tar\", \"bztar\"or \"gztar\"/root_dir : 将哪个目录或者文件打包\n",
    "make_archive(base_name, format, root_dir=None, base_dir=None, verbose=0,dry_run=0, owner=None, group=None, logger=None) "
   ]
  }
 ],
 "metadata": {
  "kernelspec": {
   "display_name": "Python 3",
   "language": "python",
   "name": "python3"
  },
  "language_info": {
   "codemirror_mode": {
    "name": "ipython",
    "version": 3
   },
   "file_extension": ".py",
   "mimetype": "text/x-python",
   "name": "python",
   "nbconvert_exporter": "python",
   "pygments_lexer": "ipython3",
   "version": "3.7.1"
  }
 },
 "nbformat": 4,
 "nbformat_minor": 2
}
