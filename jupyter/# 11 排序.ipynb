{
 "cells": [
  {
   "cell_type": "code",
   "execution_count": 2,
   "metadata": {},
   "outputs": [],
   "source": [
    "import random\n",
    "import timeit"
   ]
  },
  {
   "cell_type": "markdown",
   "metadata": {},
   "source": [
    "## 快速排序"
   ]
  },
  {
   "cell_type": "code",
   "execution_count": 3,
   "metadata": {},
   "outputs": [
    {
     "name": "stdout",
     "output_type": "stream",
     "text": [
      "[5, 13, 66, 96, 63, 57, 32, 73, 43, 5, 78, 99, 36, 70, 91, 15, 7, 41, 69, 34]\n",
      "[5, 5, 7, 13, 15, 32, 34, 36, 41, 43, 57, 63, 66, 69, 70, 73, 78, 91, 96, 99]\n"
     ]
    }
   ],
   "source": [
    "def randomList(n):\n",
    "    List = []\n",
    "    for i in range(n):\n",
    "        List.append(random.randrange(100))\n",
    "    return List\n",
    "def quickSort(List):\n",
    "    if len(List) <= 1:\n",
    "        return List\n",
    "    left = []\n",
    "    right = []\n",
    "    for i in List[1:]:\n",
    "        if i <= List[0]:\n",
    "            left.append(i)\n",
    "        else:\n",
    "            right.append(i)\n",
    "    return quickSort(left) + [List[0]] + quickSort(right)\n",
    "List = randomList(20)\n",
    "print(List)\n",
    "print(quickSort(List))"
   ]
  },
  {
   "cell_type": "markdown",
   "metadata": {},
   "source": [
    "## 冒泡排序"
   ]
  },
  {
   "cell_type": "code",
   "execution_count": 4,
   "metadata": {},
   "outputs": [
    {
     "name": "stdout",
     "output_type": "stream",
     "text": [
      "[17, 20, 26, 31, 44, 54, 55, 77, 93]\n"
     ]
    }
   ],
   "source": [
    "def bubbleSort(alist):\n",
    "    for passnum in range(0, len(alist) - 1, 1):\n",
    "        for i in range(0, len(alist) - passnum - 1, 1):\n",
    "            if (alist[i] > alist[i+1]):\n",
    "                tmp = alist[i+1]\n",
    "                alist[i+1] = alist[i]\n",
    "                alist[i] = tmp\n",
    "alist = [54,26,93,17,77,31,44,55,20]\n",
    "bubbleSort(alist)\n",
    "print(alist)"
   ]
  },
  {
   "cell_type": "markdown",
   "metadata": {},
   "source": [
    "## 选择排序"
   ]
  },
  {
   "cell_type": "code",
   "execution_count": 15,
   "metadata": {},
   "outputs": [],
   "source": [
    "def selectionSort(alist):\n",
    "    for i in range(0, len(alist), 1):\n",
    "        min = alist[i]\n",
    "        index = i\n",
    "        for j in range(i, len(alist), 1):\n",
    "            if ( alist[j] < min):\n",
    "                min = alist[j]\n",
    "                index = j\n",
    "        tmp = alist[i]\n",
    "        alist[i] = min\n",
    "        alist[index] = tmp\n"
   ]
  },
  {
   "cell_type": "code",
   "execution_count": 16,
   "metadata": {},
   "outputs": [
    {
     "name": "stdout",
     "output_type": "stream",
     "text": [
      "[17, 20, 26, 31, 44, 54, 55, 77, 93]\n"
     ]
    }
   ],
   "source": [
    "alist = [54,26,93,17,77,31,44,55,20]\n",
    "selectionSort(alist)\n",
    "print(alist)"
   ]
  },
  {
   "cell_type": "markdown",
   "metadata": {},
   "source": [
    "## 插入排序"
   ]
  },
  {
   "cell_type": "code",
   "execution_count": 9,
   "metadata": {},
   "outputs": [
    {
     "name": "stdout",
     "output_type": "stream",
     "text": [
      "[17, 20, 26, 31, 44, 54, 55, 77, 93]\n"
     ]
    }
   ],
   "source": [
    "def insertionSort(alist):\n",
    "\tfor i in range(1, len(alist), 1):\n",
    "\t\tj = i - 1\n",
    "\t\tkey = alist[i]\n",
    "\t\twhile (j >= 0 and alist[j] > key):\n",
    "\t\t\talist[j+1] = alist[j]\n",
    "\t\t\tj = j - 1\n",
    "\t\talist[j + 1] = key \n",
    "\t\t\t\t\n",
    "alist = [54,26,93,17,77,31,44,55,20]\n",
    "insertionSort(alist)\n",
    "print(alist)"
   ]
  },
  {
   "cell_type": "markdown",
   "metadata": {},
   "source": [
    "## 归并排序"
   ]
  },
  {
   "cell_type": "code",
   "execution_count": 10,
   "metadata": {},
   "outputs": [
    {
     "name": "stdout",
     "output_type": "stream",
     "text": [
      "start: 0\n",
      "q: 0\n",
      "end: 1\n",
      "start: 0\n",
      "q: 1\n",
      "end: 2\n",
      "start: 3\n",
      "q: 3\n",
      "end: 4\n",
      "start: 0\n",
      "q: 2\n",
      "end: 4\n",
      "start: 5\n",
      "q: 5\n",
      "end: 6\n",
      "start: 7\n",
      "q: 7\n",
      "end: 8\n",
      "start: 5\n",
      "q: 6\n",
      "end: 8\n",
      "start: 0\n",
      "q: 4\n",
      "end: 8\n",
      "[17, 20, 26, 31, 44, 54, 55, 77, 93]\n"
     ]
    }
   ],
   "source": [
    "\n",
    "from math import floor \n",
    "\t\n",
    "def merge(alist, p, q, r):\n",
    "\t\n",
    "\tprint ('start: ' + str(p))\n",
    "\tprint ('q: ' + str(q))\n",
    "\tprint ('end: ' + str(r))\n",
    "\t\n",
    "\tn1 = q - p + 1\n",
    "\tn2 = r - q\n",
    "\tleft = [0]*(n1 + 1)\n",
    "\tright = [0]*(n2 + 1)\n",
    "\tfor i in range(0, n1, 1):\n",
    "\t\tleft[i] = alist[p + i]\n",
    "\tfor j in range(0, n2, 1):\n",
    "\t\tright[j] = alist[q + j + 1]\n",
    "\tleft[n1] = 100000\n",
    "\tright[n2] = 100000\n",
    "\ti = 0\n",
    "\tj = 0\n",
    "\tfor k in range(p, r + 1, 1):\n",
    "\t\tif (left[i] <= right[j]):\n",
    "\t\t\talist[k] = left[i]\n",
    "\t\t\ti = i + 1\n",
    "\t\telse:\n",
    "\t\t\talist[k] = right[j]\n",
    "\t\t\tj = j + 1\n",
    "\t\n",
    "def mergeSort(alist, p, r):\n",
    "\tif (p < r):\n",
    "\t\tq = floor((p + r)/2)\n",
    "\t\tmergeSort(alist, p, q)\n",
    "\t\tmergeSort(alist, q + 1, r)\n",
    "\t\tmerge(alist, p, q, r)\n",
    "\t\t\n",
    "alist = [54,26,93,17,77,31,44,55,20]\n",
    "mergeSort(alist, 0, 8)\n",
    "print(alist)"
   ]
  },
  {
   "cell_type": "markdown",
   "metadata": {},
   "source": [
    "## 二分查找"
   ]
  },
  {
   "cell_type": "code",
   "execution_count": 11,
   "metadata": {},
   "outputs": [
    {
     "name": "stdout",
     "output_type": "stream",
     "text": [
      "5\n"
     ]
    }
   ],
   "source": [
    "from math import floor\n",
    " \n",
    "def binarySearch(alist, n, low, high):\n",
    "\tif (low < high):\n",
    "\t\tmid = floor((high + low)/2)\n",
    "\t\tif (alist[mid] > n):\n",
    "\t\t\tbinarySearch(alist, n, low, mid)\n",
    "\t\telse:\n",
    "\t\t\tbinarySearch(alist, n, mid + 1, high)\n",
    "\t\tif (alist[mid] == n):\n",
    "\t\t\tprint (mid)\n",
    "\t\t\treturn mid\n",
    "\t\t\t\t\n",
    "alist = [1,2,3,4,5,6,7,8]\n",
    "binarySearch(alist, 6, 0, 7)"
   ]
  },
  {
   "cell_type": "code",
   "execution_count": null,
   "metadata": {},
   "outputs": [],
   "source": []
  }
 ],
 "metadata": {
  "kernelspec": {
   "display_name": "Python 3",
   "language": "python",
   "name": "python3"
  },
  "language_info": {
   "codemirror_mode": {
    "name": "ipython",
    "version": 3
   },
   "file_extension": ".py",
   "mimetype": "text/x-python",
   "name": "python",
   "nbconvert_exporter": "python",
   "pygments_lexer": "ipython3",
   "version": "3.7.5"
  }
 },
 "nbformat": 4,
 "nbformat_minor": 4
}
