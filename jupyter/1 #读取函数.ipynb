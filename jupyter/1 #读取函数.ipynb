{
 "cells": [
  {
   "cell_type": "markdown",
   "metadata": {},
   "source": [
    "# 读取文件相关"
   ]
  },
  {
   "cell_type": "code",
   "execution_count": 1,
   "metadata": {},
   "outputs": [],
   "source": [
    "import pandas as pd\n",
    "import numpy as np\n",
    "import cv2\n",
    "import matplotlib.pyplot as plt\n",
    "import os\n",
    "import csv\n",
    "import json\n",
    "import configparser\n",
    "\n",
    "os.chdir('/home/zpp/Sample_files/accumulate')"
   ]
  },
  {
   "cell_type": "markdown",
   "metadata": {},
   "source": [
    "### 读取文件下的所有文件（包括子目录下的）"
   ]
  },
  {
   "cell_type": "code",
   "execution_count": 3,
   "metadata": {},
   "outputs": [],
   "source": [
    "def get_filelist(path, pathAdd=True):\n",
    "    Filelist_path = []\n",
    "    Filelist      = []\n",
    "    for home, dirs, files in os.walk(path):\n",
    "        #print(files)\n",
    "        for filename in files:\n",
    "            # 返回路径加文件名的list\n",
    "            Filelist_path.append(os.path.join(home, filename))\n",
    "            # 只返回文件名字的list\n",
    "            Filelist.append( filename) \n",
    "    if pathAdd==True:\n",
    "        return Filelist_path\n",
    "    elif pathAdd==False:\n",
    "        return Filelist\n",
    "    else:\n",
    "        print('ParameterError: PathAdd is True or False')"
   ]
  },
  {
   "cell_type": "code",
   "execution_count": 4,
   "metadata": {},
   "outputs": [
    {
     "name": "stdout",
     "output_type": "stream",
     "text": [
      "ParameterError: PathAdd is True or False\n"
     ]
    }
   ],
   "source": [
    "path = 'file'\n",
    "get_filelist(path, 3)"
   ]
  },
  {
   "cell_type": "markdown",
   "metadata": {},
   "source": [
    "### 逐行读取csv # 读取中文用ｇｂｋ"
   ]
  },
  {
   "cell_type": "code",
   "execution_count": 6,
   "metadata": {},
   "outputs": [
    {
     "data": {
      "text/plain": [
       "'chun.zhang_shushan.li,gradingLevel,0.212056331,0.16781752,0.256295142,0.03483371,0.122641509'"
      ]
     },
     "execution_count": 6,
     "metadata": {},
     "output_type": "execute_result"
    }
   ],
   "source": [
    "for line in open('read.csv', 'r', encoding='gbk'):\n",
    "    line = line.replace('\\n', '')#.split('\"|\"')\n",
    "line\n",
    "#不要第一行\n",
    "kk=0\n",
    "for line in open('read.csv', 'r', encoding='gbk'):\n",
    "    kk += 1\n",
    "    if (kk == 1):\n",
    "        continue\n",
    "    line = line.replace('\\n', '')#.split('\"|\"')\n",
    "line\n",
    "\n",
    "#json_d = datas[6].replace('\"{', '{').replace('}\"', '}')\n",
    "#frame_d = json.loads(json_d)"
   ]
  },
  {
   "cell_type": "markdown",
   "metadata": {},
   "source": [
    "### 逐行写入csv"
   ]
  },
  {
   "cell_type": "code",
   "execution_count": 5,
   "metadata": {},
   "outputs": [],
   "source": [
    "csvFile3 = open('write.csv','w')\n",
    "writer2 = csv.writer(csvFile3)\n",
    "writer2.writerow(['zpp','zpp'])\n",
    "csvFile3.close()"
   ]
  },
  {
   "cell_type": "markdown",
   "metadata": {},
   "source": [
    "### 逐行读取txt"
   ]
  },
  {
   "cell_type": "code",
   "execution_count": 6,
   "metadata": {},
   "outputs": [
    {
     "data": {
      "text/plain": [
       "['c34507_20180411_170351_170649_HD_5_Line_Raster_0_f_5.jpg', '1']"
      ]
     },
     "execution_count": 6,
     "metadata": {},
     "output_type": "execute_result"
    }
   ],
   "source": [
    "for line in open('read.txt', 'r'):\n",
    "    line = line.replace('\\n', '').split(',')\n",
    "line"
   ]
  },
  {
   "cell_type": "markdown",
   "metadata": {},
   "source": [
    "### 逐行写入txt"
   ]
  },
  {
   "cell_type": "code",
   "execution_count": 7,
   "metadata": {},
   "outputs": [],
   "source": [
    "f = open('write.txt', 'a+')\n",
    "for i in range(5):\n",
    "    f.write(str(i)+'\\n')\n",
    "# f.close()"
   ]
  },
  {
   "cell_type": "markdown",
   "metadata": {},
   "source": [
    "### 全部读取csv"
   ]
  },
  {
   "cell_type": "code",
   "execution_count": 8,
   "metadata": {},
   "outputs": [
    {
     "data": {
      "text/html": [
       "<div>\n",
       "<style scoped>\n",
       "    .dataframe tbody tr th:only-of-type {\n",
       "        vertical-align: middle;\n",
       "    }\n",
       "\n",
       "    .dataframe tbody tr th {\n",
       "        vertical-align: top;\n",
       "    }\n",
       "\n",
       "    .dataframe thead th {\n",
       "        text-align: right;\n",
       "    }\n",
       "</style>\n",
       "<table border=\"1\" class=\"dataframe\">\n",
       "  <thead>\n",
       "    <tr style=\"text-align: right;\">\n",
       "      <th></th>\n",
       "      <th>doctor</th>\n",
       "      <th>lei</th>\n",
       "      <th>kappa</th>\n",
       "      <th>ci_l</th>\n",
       "      <th>ci_u</th>\n",
       "      <th>sek</th>\n",
       "      <th>same_ratio</th>\n",
       "    </tr>\n",
       "  </thead>\n",
       "  <tbody>\n",
       "    <tr>\n",
       "      <th>0</th>\n",
       "      <td>chun.zhang_yu.tang</td>\n",
       "      <td>discShape</td>\n",
       "      <td>待定</td>\n",
       "      <td>-0.503148</td>\n",
       "      <td>0.503148</td>\n",
       "      <td>0.396179</td>\n",
       "      <td>0.941748</td>\n",
       "    </tr>\n",
       "    <tr>\n",
       "      <th>1</th>\n",
       "      <td>chun.zhang_ke.xu</td>\n",
       "      <td>discShape</td>\n",
       "      <td>待定</td>\n",
       "      <td>-0.345242</td>\n",
       "      <td>0.345242</td>\n",
       "      <td>0.271844</td>\n",
       "      <td>0.886792</td>\n",
       "    </tr>\n",
       "    <tr>\n",
       "      <th>2</th>\n",
       "      <td>chun.zhang_sijia.song</td>\n",
       "      <td>discShape</td>\n",
       "      <td>待定</td>\n",
       "      <td>-1.263938</td>\n",
       "      <td>1.263938</td>\n",
       "      <td>0.995227</td>\n",
       "      <td>0.990476</td>\n",
       "    </tr>\n",
       "    <tr>\n",
       "      <th>3</th>\n",
       "      <td>chun.zhang_ying.hong</td>\n",
       "      <td>discShape</td>\n",
       "      <td>待定</td>\n",
       "      <td>-0.554404</td>\n",
       "      <td>0.554404</td>\n",
       "      <td>0.436539</td>\n",
       "      <td>0.952830</td>\n",
       "    </tr>\n",
       "    <tr>\n",
       "      <th>4</th>\n",
       "      <td>chun.zhang_shushan.li</td>\n",
       "      <td>discShape</td>\n",
       "      <td>待定</td>\n",
       "      <td>-0.187582</td>\n",
       "      <td>0.187582</td>\n",
       "      <td>0.147703</td>\n",
       "      <td>0.698113</td>\n",
       "    </tr>\n",
       "  </tbody>\n",
       "</table>\n",
       "</div>"
      ],
      "text/plain": [
       "                  doctor        lei kappa      ci_l      ci_u       sek  \\\n",
       "0     chun.zhang_yu.tang  discShape    待定 -0.503148  0.503148  0.396179   \n",
       "1       chun.zhang_ke.xu  discShape    待定 -0.345242  0.345242  0.271844   \n",
       "2  chun.zhang_sijia.song  discShape    待定 -1.263938  1.263938  0.995227   \n",
       "3   chun.zhang_ying.hong  discShape    待定 -0.554404  0.554404  0.436539   \n",
       "4  chun.zhang_shushan.li  discShape    待定 -0.187582  0.187582  0.147703   \n",
       "\n",
       "   same_ratio  \n",
       "0    0.941748  \n",
       "1    0.886792  \n",
       "2    0.990476  \n",
       "3    0.952830  \n",
       "4    0.698113  "
      ]
     },
     "execution_count": 8,
     "metadata": {},
     "output_type": "execute_result"
    }
   ],
   "source": [
    "data = pd.read_csv('read.csv', encoding='gbk')# delimiter=\"\\t\"\n",
    "data.head()"
   ]
  },
  {
   "cell_type": "markdown",
   "metadata": {},
   "source": [
    "### 全部读取txt(或者用read_table)"
   ]
  },
  {
   "cell_type": "code",
   "execution_count": 9,
   "metadata": {
    "scrolled": false
   },
   "outputs": [
    {
     "data": {
      "text/html": [
       "<div>\n",
       "<style scoped>\n",
       "    .dataframe tbody tr th:only-of-type {\n",
       "        vertical-align: middle;\n",
       "    }\n",
       "\n",
       "    .dataframe tbody tr th {\n",
       "        vertical-align: top;\n",
       "    }\n",
       "\n",
       "    .dataframe thead th {\n",
       "        text-align: right;\n",
       "    }\n",
       "</style>\n",
       "<table border=\"1\" class=\"dataframe\">\n",
       "  <thead>\n",
       "    <tr style=\"text-align: right;\">\n",
       "      <th></th>\n",
       "      <th>10791_20180413_155321_160014_HD_5_Line_Raster_0_f_1.jpg,0</th>\n",
       "    </tr>\n",
       "  </thead>\n",
       "  <tbody>\n",
       "    <tr>\n",
       "      <th>0</th>\n",
       "      <td>10791_20180413_155321_160014_HD_5_Line_Raster_...</td>\n",
       "    </tr>\n",
       "    <tr>\n",
       "      <th>1</th>\n",
       "      <td>10791_20180413_155321_160014_HD_5_Line_Raster_...</td>\n",
       "    </tr>\n",
       "    <tr>\n",
       "      <th>2</th>\n",
       "      <td>10791_20180413_155321_160014_HD_5_Line_Raster_...</td>\n",
       "    </tr>\n",
       "    <tr>\n",
       "      <th>3</th>\n",
       "      <td>10791_20180413_155321_160014_HD_5_Line_Raster_...</td>\n",
       "    </tr>\n",
       "    <tr>\n",
       "      <th>4</th>\n",
       "      <td>1130_20180226_155740_155740_HD_5_Line_Raster_0...</td>\n",
       "    </tr>\n",
       "  </tbody>\n",
       "</table>\n",
       "</div>"
      ],
      "text/plain": [
       "  10791_20180413_155321_160014_HD_5_Line_Raster_0_f_1.jpg,0\n",
       "0  10791_20180413_155321_160014_HD_5_Line_Raster_...       \n",
       "1  10791_20180413_155321_160014_HD_5_Line_Raster_...       \n",
       "2  10791_20180413_155321_160014_HD_5_Line_Raster_...       \n",
       "3  10791_20180413_155321_160014_HD_5_Line_Raster_...       \n",
       "4  1130_20180226_155740_155740_HD_5_Line_Raster_0...       "
      ]
     },
     "execution_count": 9,
     "metadata": {},
     "output_type": "execute_result"
    }
   ],
   "source": [
    "data = pd.read_csv('read.txt','\\t')\n",
    "data.head()"
   ]
  },
  {
   "cell_type": "markdown",
   "metadata": {},
   "source": [
    "### 全部输出txt"
   ]
  },
  {
   "cell_type": "code",
   "execution_count": null,
   "metadata": {},
   "outputs": [],
   "source": [
    "data.to_csv('to.txt', sep='\\t', index=False)"
   ]
  },
  {
   "cell_type": "markdown",
   "metadata": {},
   "source": [
    "### 读取json"
   ]
  },
  {
   "cell_type": "code",
   "execution_count": 10,
   "metadata": {
    "scrolled": true
   },
   "outputs": [
    {
     "data": {
      "text/plain": [
       "{'age': 18,\n",
       " 'imformation': {'json': [{'age': 18, 'name': 'zpp1'},\n",
       "   {'age': 18, 'name': 'zpp2'},\n",
       "   {'age': 18, 'name': 'zpp3'}],\n",
       "  'where from': '..',\n",
       "  'where go': '??'},\n",
       " 'name': 'zpp'}"
      ]
     },
     "execution_count": 10,
     "metadata": {},
     "output_type": "execute_result"
    }
   ],
   "source": [
    "with open('read.json', 'r', encoding='utf-8') as f:\n",
    "    data = json.load(f)\n",
    "data"
   ]
  },
  {
   "cell_type": "markdown",
   "metadata": {},
   "source": [
    "### 写出json"
   ]
  },
  {
   "cell_type": "code",
   "execution_count": 11,
   "metadata": {},
   "outputs": [],
   "source": [
    "with open('write.json', 'w') as f: # f是位置及名字\n",
    "    json.dump(data, f, ensure_ascii=False, sort_keys=True, indent=3)"
   ]
  },
  {
   "cell_type": "markdown",
   "metadata": {},
   "source": [
    "### 读取图片"
   ]
  },
  {
   "cell_type": "code",
   "execution_count": 16,
   "metadata": {},
   "outputs": [],
   "source": [
    "img = cv2.imread('read.jpg') # 黑白：0\n",
    "cv2.imshow('img', img);cv2.waitKey(0);cv2.destroyAllWindows()"
   ]
  },
  {
   "cell_type": "markdown",
   "metadata": {},
   "source": [
    "### 保存图片"
   ]
  },
  {
   "cell_type": "code",
   "execution_count": 20,
   "metadata": {},
   "outputs": [
    {
     "data": {
      "text/plain": [
       "True"
      ]
     },
     "execution_count": 20,
     "metadata": {},
     "output_type": "execute_result"
    }
   ],
   "source": [
    "cv2.imwrite('write.jpg', img)"
   ]
  },
  {
   "cell_type": "markdown",
   "metadata": {},
   "source": [
    "### 读取配置文件"
   ]
  },
  {
   "cell_type": "code",
   "execution_count": 28,
   "metadata": {},
   "outputs": [
    {
     "name": "stdout",
     "output_type": "stream",
     "text": [
      "['table', 'metric_ids', 'defaults', 'version']\n",
      "[('full_name', 'zpp_io_ll'), ('key', 'open_id'), ('dt_latest', 'yesterday')]\n"
     ]
    }
   ],
   "source": [
    "cf = configparser.ConfigParser()\n",
    "cf.read('read.conf')\n",
    "data = cf.sections()\n",
    "print(data)\n",
    "print(cf.items(\"table\"))"
   ]
  }
 ],
 "metadata": {
  "kernelspec": {
   "display_name": "Python 3",
   "language": "python",
   "name": "python3"
  },
  "language_info": {
   "codemirror_mode": {
    "name": "ipython",
    "version": 3
   },
   "file_extension": ".py",
   "mimetype": "text/x-python",
   "name": "python",
   "nbconvert_exporter": "python",
   "pygments_lexer": "ipython3",
   "version": "3.7.1"
  }
 },
 "nbformat": 4,
 "nbformat_minor": 2
}

<iframe src="https://nbviewer.jupyter.org/github/Zpp-hub/Basics/blob/master/jupyter/1%20%23%E8%AF%BB%E5%8F%96%E5%87%BD%E6%95%B0.ipynb" width="100%" height="1000"></iframe>