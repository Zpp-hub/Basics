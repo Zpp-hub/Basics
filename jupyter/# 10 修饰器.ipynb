{
 "cells": [
  {
   "cell_type": "markdown",
   "metadata": {},
   "source": [
    "# 修饰器就是输入为函数\n",
    "如果我们给函数添加了修饰器,那么当程序执行到函数A的时候,系统会检测到函数A上有一个修饰器,那么系统就会先执行修饰器里的过程然后再回到函数执行函数的内容"
   ]
  },
  {
   "cell_type": "code",
   "execution_count": 2,
   "metadata": {
    "scrolled": true
   },
   "outputs": [
    {
     "name": "stdout",
     "output_type": "stream",
     "text": [
      "this is A\n"
     ]
    }
   ],
   "source": [
    "def A():\n",
    "    print('this is A')\n",
    "A()"
   ]
  },
  {
   "cell_type": "markdown",
   "metadata": {},
   "source": [
    "#### 测试函数所需时间"
   ]
  },
  {
   "cell_type": "code",
   "execution_count": 7,
   "metadata": {},
   "outputs": [
    {
     "name": "stdout",
     "output_type": "stream",
     "text": [
      "this is mea A\n",
      "start: 1591779202.7828636  end: 1591779202.7833288\n"
     ]
    }
   ],
   "source": [
    "import time\n",
    "\n",
    "def A():\n",
    "    start = time.time()\n",
    "    print(\"this is mea A\")\n",
    "    end = time.time()\n",
    "    print(\"start:\", start, \" end:\", end)\n",
    "\n",
    "A()"
   ]
  },
  {
   "cell_type": "markdown",
   "metadata": {},
   "source": [
    "#### 假设100个函数的场景，就把A函数在作为test_time函数的输入"
   ]
  },
  {
   "cell_type": "code",
   "execution_count": 10,
   "metadata": {},
   "outputs": [
    {
     "name": "stdout",
     "output_type": "stream",
     "text": [
      "this is a A\n",
      "start: 1591779354.871332  end: 1591779354.8713677\n"
     ]
    }
   ],
   "source": [
    "import time\n",
    "\n",
    "def A():\n",
    "    print(\"this is a A\")\n",
    "\n",
    "def test_time(func):\n",
    "    start = time.time()\n",
    "    A()\n",
    "    end = time.time()\n",
    "    print(\"start:\", start, \" end:\", end)\n",
    "\n",
    "test_time(A)"
   ]
  },
  {
   "cell_type": "code",
   "execution_count": 14,
   "metadata": {},
   "outputs": [
    {
     "name": "stdout",
     "output_type": "stream",
     "text": [
      "this is a A\n",
      "start: 1591779554.9512458  end: 1591779554.9515514\n"
     ]
    }
   ],
   "source": [
    "import time\n",
    "\n",
    "def test_time(func):\n",
    "    def wrapper():\n",
    "        start = time.time()\n",
    "        func()\n",
    "        end = time.time()\n",
    "        print(\"start:\", start, \" end:\", end)\n",
    "    return wrapper\n",
    "\n",
    "@test_time\n",
    "def A():\n",
    "    print(\"this is a A\")\n",
    "A()"
   ]
  },
  {
   "cell_type": "code",
   "execution_count": 6,
   "metadata": {},
   "outputs": [],
   "source": [
    "def tracer(func):\n",
    "    def wrapper(*args, **kwargs):\n",
    "        result = func(*args, **kwargs)\n",
    "        print('%s(%r,%r)->%r'%(func.__name__,args,kwargs,result))\n",
    "        return result\n",
    "    return wrapper\n",
    "@tracer\n",
    "def fibonacci(n):\n",
    "    if n in (0,1):\n",
    "        return 0\n",
    "    return 1"
   ]
  },
  {
   "cell_type": "code",
   "execution_count": 8,
   "metadata": {},
   "outputs": [
    {
     "name": "stdout",
     "output_type": "stream",
     "text": [
      "fibonacci((3,),{})->1\n",
      "<function tracer.<locals>.wrapper at 0x7f607824c830>\n"
     ]
    }
   ],
   "source": [
    "fibonacci(3)\n",
    "print(fibonacci)"
   ]
  },
  {
   "cell_type": "code",
   "execution_count": 9,
   "metadata": {},
   "outputs": [
    {
     "name": "stdout",
     "output_type": "stream",
     "text": [
      "help:\n",
      "Help on function wrapper in module __main__:\n",
      "\n",
      "wrapper(*args, **kwargs)\n",
      "\n"
     ]
    }
   ],
   "source": [
    "print('help:')\n",
    "help(fibonacci)"
   ]
  },
  {
   "cell_type": "code",
   "execution_count": null,
   "metadata": {},
   "outputs": [],
   "source": []
  }
 ],
 "metadata": {
  "kernelspec": {
   "display_name": "Python 3",
   "language": "python",
   "name": "python3"
  },
  "language_info": {
   "codemirror_mode": {
    "name": "ipython",
    "version": 3
   },
   "file_extension": ".py",
   "mimetype": "text/x-python",
   "name": "python",
   "nbconvert_exporter": "python",
   "pygments_lexer": "ipython3",
   "version": "3.7.5"
  }
 },
 "nbformat": 4,
 "nbformat_minor": 4
}
