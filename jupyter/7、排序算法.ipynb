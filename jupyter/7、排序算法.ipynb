{
 "cells": [
  {
   "cell_type": "code",
   "execution_count": 39,
   "metadata": {},
   "outputs": [
    {
     "data": {
      "text/plain": [
       "array([ 2,  2,  8, 15,  7, 11,  4, 14,  1,  0,  8, 13, 11,  2, 10, 11,  8,\n",
       "        6,  7, 11])"
      ]
     },
     "execution_count": 39,
     "metadata": {},
     "output_type": "execute_result"
    }
   ],
   "source": [
    "import numpy as np\n",
    "list_ = np.random.randint(20, size=20)\n",
    "in_list = list_\n",
    "list_"
   ]
  },
  {
   "cell_type": "code",
   "execution_count": 40,
   "metadata": {},
   "outputs": [],
   "source": [
    "# 冒泡排序\n",
    "def BubbleSore(in_list):\n",
    "    if len(in_list)<2:\n",
    "        return in_list\n",
    "    else:\n",
    "        for i in range(len(in_list)-1):\n",
    "            for j in range(len(in_list)-1-i):\n",
    "                if in_list[j] > in_list[j+1]:\n",
    "                    max_ = in_list[j]\n",
    "                    in_list[j], in_list[j+1] = in_list[j+1], max_\n",
    "            print(in_list)\n",
    "    return in_list"
   ]
  },
  {
   "cell_type": "code",
   "execution_count": 41,
   "metadata": {
    "collapsed": true
   },
   "outputs": [
    {
     "name": "stdout",
     "output_type": "stream",
     "text": [
      "[ 2  2  8  7 11  4 14  1  0  8 13 11  2 10 11  8  6  7 11 15]\n",
      "[ 2  2  7  8  4 11  1  0  8 13 11  2 10 11  8  6  7 11 14 15]\n",
      "[ 2  2  7  4  8  1  0  8 11 11  2 10 11  8  6  7 11 13 14 15]\n",
      "[ 2  2  4  7  1  0  8  8 11  2 10 11  8  6  7 11 11 13 14 15]\n",
      "[ 2  2  4  1  0  7  8  8  2 10 11  8  6  7 11 11 11 13 14 15]\n",
      "[ 2  2  1  0  4  7  8  2  8 10  8  6  7 11 11 11 11 13 14 15]\n",
      "[ 2  1  0  2  4  7  2  8  8  8  6  7 10 11 11 11 11 13 14 15]\n",
      "[ 1  0  2  2  4  2  7  8  8  6  7  8 10 11 11 11 11 13 14 15]\n",
      "[ 0  1  2  2  2  4  7  8  6  7  8  8 10 11 11 11 11 13 14 15]\n",
      "[ 0  1  2  2  2  4  7  6  7  8  8  8 10 11 11 11 11 13 14 15]\n",
      "[ 0  1  2  2  2  4  6  7  7  8  8  8 10 11 11 11 11 13 14 15]\n",
      "[ 0  1  2  2  2  4  6  7  7  8  8  8 10 11 11 11 11 13 14 15]\n",
      "[ 0  1  2  2  2  4  6  7  7  8  8  8 10 11 11 11 11 13 14 15]\n",
      "[ 0  1  2  2  2  4  6  7  7  8  8  8 10 11 11 11 11 13 14 15]\n",
      "[ 0  1  2  2  2  4  6  7  7  8  8  8 10 11 11 11 11 13 14 15]\n",
      "[ 0  1  2  2  2  4  6  7  7  8  8  8 10 11 11 11 11 13 14 15]\n",
      "[ 0  1  2  2  2  4  6  7  7  8  8  8 10 11 11 11 11 13 14 15]\n",
      "[ 0  1  2  2  2  4  6  7  7  8  8  8 10 11 11 11 11 13 14 15]\n",
      "[ 0  1  2  2  2  4  6  7  7  8  8  8 10 11 11 11 11 13 14 15]\n"
     ]
    },
    {
     "data": {
      "text/plain": [
       "array([ 0,  1,  2,  2,  2,  4,  6,  7,  7,  8,  8,  8, 10, 11, 11, 11, 11,\n",
       "       13, 14, 15])"
      ]
     },
     "execution_count": 41,
     "metadata": {},
     "output_type": "execute_result"
    }
   ],
   "source": [
    "BubbleSore(in_list)"
   ]
  },
  {
   "cell_type": "code",
   "execution_count": null,
   "metadata": {},
   "outputs": [],
   "source": []
  }
 ],
 "metadata": {
  "kernelspec": {
   "display_name": "Python 3",
   "language": "python",
   "name": "python3"
  },
  "language_info": {
   "codemirror_mode": {
    "name": "ipython",
    "version": 3
   },
   "file_extension": ".py",
   "mimetype": "text/x-python",
   "name": "python",
   "nbconvert_exporter": "python",
   "pygments_lexer": "ipython3",
   "version": "3.7.1"
  }
 },
 "nbformat": 4,
 "nbformat_minor": 2
}
