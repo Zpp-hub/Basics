{
 "cells": [
  {
   "cell_type": "markdown",
   "metadata": {},
   "source": [
    "# 举例"
   ]
  },
  {
   "cell_type": "markdown",
   "metadata": {},
   "source": [
    "### 计算一个圆的面积"
   ]
  },
  {
   "cell_type": "code",
   "execution_count": 1,
   "metadata": {},
   "outputs": [],
   "source": [
    "#　函数方法计算圆的面积\n",
    "def area(r,pi):\n",
    "   return pi * (r**2)"
   ]
  },
  {
   "cell_type": "code",
   "execution_count": 2,
   "metadata": {},
   "outputs": [
    {
     "name": "stdout",
     "output_type": "stream",
     "text": [
      "50.24\n"
     ]
    }
   ],
   "source": [
    "ＰI=3.14\n",
    "r1=4\n",
    "print(area(r1, PI))"
   ]
  },
  {
   "cell_type": "code",
   "execution_count": 3,
   "metadata": {},
   "outputs": [
    {
     "name": "stdout",
     "output_type": "stream",
     "text": [
      "153.86\n"
     ]
    }
   ],
   "source": [
    "ＰI=3.14\n",
    "r2=7\n",
    "print(area(r2, PI))"
   ]
  },
  {
   "cell_type": "code",
   "execution_count": 20,
   "metadata": {},
   "outputs": [],
   "source": [
    "# 如果要计算很多圆的面积就比较复杂　class方法\n",
    "class Cycle(object):\n",
    "    def __init__(self, r):\n",
    "        self.pi = 3.14\n",
    "        self.r = r\n",
    "    def cycle_area(self):\n",
    "        return self.pi * (self.r**2)"
   ]
  },
  {
   "cell_type": "code",
   "execution_count": 21,
   "metadata": {},
   "outputs": [
    {
     "data": {
      "text/plain": [
       "12.56"
      ]
     },
     "execution_count": 21,
     "metadata": {},
     "output_type": "execute_result"
    }
   ],
   "source": [
    "a = Cycle(2)\n",
    "a.cycle_area()"
   ]
  },
  {
   "cell_type": "code",
   "execution_count": 23,
   "metadata": {},
   "outputs": [],
   "source": [
    "# 计算一个圆和一个正方形\n",
    "class Rectangle:\n",
    "    def __init__(self,length,height):\n",
    "        self.length=length\n",
    "        self.height=height\n",
    "    def rectangle_area(self):\n",
    "        return self.length*self.height \n",
    "\n",
    "class Cycle:\n",
    "    def __init__(self,r):\n",
    "        self.pi=3.14\n",
    "        self.r=r\n",
    "    def cycle_area(self):\n",
    "        return self.pi * (self.r**2)        "
   ]
  },
  {
   "cell_type": "code",
   "execution_count": 24,
   "metadata": {},
   "outputs": [
    {
     "data": {
      "text/plain": [
       "6"
      ]
     },
     "execution_count": 24,
     "metadata": {},
     "output_type": "execute_result"
    }
   ],
   "source": [
    "Rectangle(2,3).rectangle_area()"
   ]
  },
  {
   "cell_type": "code",
   "execution_count": 26,
   "metadata": {},
   "outputs": [
    {
     "data": {
      "text/plain": [
       "12.56"
      ]
     },
     "execution_count": 26,
     "metadata": {},
     "output_type": "execute_result"
    }
   ],
   "source": [
    "Cycle(2).cycle_area()"
   ]
  },
  {
   "cell_type": "code",
   "execution_count": 31,
   "metadata": {},
   "outputs": [],
   "source": [
    "def ellipseToPolygon(a, b, xc, yc, n=64):\n",
    "    import numpy as np\n",
    "    # ts = 0:np.pi / n:pi * 2\n",
    "    ts = np.arange(0,2*np.pi,np.pi/(64/2))\n",
    "    x = xc + a * np.cos(ts)\n",
    "    y = yc + b * np.sin(ts)\n",
    "    splinePt = np.zeros((len(y), 2))\n",
    "    splinePt[:, 0] = x\n",
    "    splinePt[:, 1] = y\n",
    "    return [splinePt]\n",
    "\n",
    "\"\"\"\n",
    "函数名称：oval\n",
    "函数功能：求椭圆基本信息\n",
    "输入：\n",
    "    points：四个顶点、或两个对角点\n",
    "    n：椭圆上坐标点个数\n",
    "输出：\n",
    "    a：椭圆的短半轴长\n",
    "    b：椭圆的长半轴长\n",
    "    xc：椭圆中心点x坐标\n",
    "    yc：椭圆中心点y坐标\n",
    "    n：生成椭圆坐标点个数\n",
    "\"\"\"\n",
    "def oval(points,n=64):\n",
    "    import numpy as np\n",
    "    if (len(points) == 2):\n",
    "         x1 = points[0][0]\n",
    "         y1 = points[0][1]\n",
    "         x2 = points[1][0]\n",
    "         y2 = points[1][1]\n",
    "    else:\n",
    "        x1 = points[0][0]\n",
    "        x2 = points[1][0]\n",
    "        y1 = points[0][1]\n",
    "        y2 = points[2][1]\n",
    "    a = abs(np.diff([x1,x2])) / 2 # 横坐标相邻距离\n",
    "    b = abs(np.diff([y1,y2])) / 2 # 纵坐标相邻距离\n",
    "    xc = np.mean([x1,x2]) # 中心点\n",
    "    yc = np.mean([y1,y2]) # 中心点\n",
    "    return ellipseToPolygon(a, b, xc, yc,n)\n",
    "\"\"\"\n",
    "函数名称：polygon\n",
    "函数功能：相对位置转化为绝对位置\n",
    "输入：\n",
    "    points：相对位置坐标\n",
    "    width：图像的宽\n",
    "    height：图像的高\n",
    "输出：\n",
    "    linePt：绝对位置点的坐标\n",
    "\"\"\"\n",
    "def polygon(points, width, height):\n",
    "    linePt = []\n",
    "    for k in range(len(points)):\n",
    "        point = points[k]\n",
    "        x = point['x']*width\n",
    "        y = point['y']*height\n",
    "        linePt.append([x, y])\n",
    "    return linePt\n"
   ]
  },
  {
   "cell_type": "code",
   "execution_count": 32,
   "metadata": {},
   "outputs": [],
   "source": [
    "# 代码实例（画图）\n",
    "import numpy as np\n",
    "class draw_point(object):\n",
    "    def __init__(self, point):\n",
    "        self.point = point\n",
    "    def EvaluateCardinal2D(P0,P1,P2,P3,T,u):\n",
    "        s= float(1-T)/2\n",
    "        MC=np.array([[-s,2-s,s-2,s],[2.*s,s-3,3-(2.*s),-s],[-s,0,s,0],[0,1,0,0]],np.float)\n",
    "        GHx= np.array([[P0[0]],[P1[0]],[P2[0]],[P3[0]]],np.float)\n",
    "        GHy=np.array([[P0[1]],[P1[1]],[P2[1]],[P3[1]]],np.float)\n",
    "        U=np.array([u**3,u**2,u,1],np.float)\n",
    "        xt=np.dot(np.dot(U,MC),GHx)\n",
    "        yt=np.dot(np.dot(U,MC),GHy)\n",
    "        return xt,yt\n",
    "\n",
    "    def EvaluateCardinal2DAtNplusOneValues(P0,P1,P2,P3,T,N):\n",
    "        xvec=[]\n",
    "        yvec=[]\n",
    "        u=0\n",
    "        xve,yve =EvaluateCardinal2D(P0,P1,P2,P3,T,u)\n",
    "        xvec.append(xve)\n",
    "        yvec.append(yve)\n",
    "        du=float(1)/N\n",
    "        for k in range(N):\n",
    "            u=k*du\n",
    "            xve,yve =EvaluateCardinal2D(P0,P1,P2,P3,T,u)\n",
    "            xvec.append(xve)\n",
    "            yvec.append(yve)\n",
    "        return xvec,yvec\n",
    "    \n",
    "    def curve(PT,isin,Tension=0,n=100):\n",
    "        setx = []\n",
    "        sety = []\n",
    "        Px = []\n",
    "        Py = []\n",
    "        for i in range(len(PT)):\n",
    "            if(isin==False and i==0):\n",
    "                Px.append(PT[0][0])\n",
    "                Py.append(PT[0][1])\n",
    "            Px.append(PT[i][0])\n",
    "            Py.append(PT[i][1])\n",
    "\n",
    "\n",
    "        if (isin):\n",
    "            Px.append(PT[0][0])\n",
    "            Py.append(PT[0][1])\n",
    "            Px.append(PT[1][0])\n",
    "            Py.append(PT[1][1])\n",
    "            Px.append(PT[2][0])\n",
    "            Py.append(PT[2][1])\n",
    "        else:\n",
    "            Px.append(PT[-1][0])\n",
    "            Py.append(PT[-1][1])\n",
    "        n = int(n/(len(Px)-3))\n",
    "        for k in range(len(Px)-3):\n",
    "            xvec, yvec = EvaluateCardinal2DAtNplusOneValues([Px[k], Py[k]], [Px[k + 1], Py[k + 1]], [Px[k + 2], Py[k + 2]],[Px[k + 3], Py[k + 3]], Tension, n)\n",
    "            setx = setx+xvec\n",
    "            sety = sety+yvec\n",
    "        splinePt = np.zeros((len(sety),2))\n",
    "        arange = np.arange(len(sety))\n",
    "        splinePt[:, 0] = setx\n",
    "        splinePt[:, 1] = sety\n",
    "        # for k in range(len(setx)):\n",
    "        #     splinePt.append([setx[k],sety[k]])\n",
    "        return splinePt"
   ]
  },
  {
   "cell_type": "code",
   "execution_count": 33,
   "metadata": {},
   "outputs": [],
   "source": [
    "point = [{'x': 0.2857142857142857, 'y': 0.5502450980392157},\n",
    "         {'x': 0.20270270270270271, 'y': 0.6629901960784313},\n",
    "         {'x': 0.15154440154440155, 'y': 0.7120098039215687},\n",
    "         {'x': 0.18436293436293436, 'y': 0.758578431372549},\n",
    "         {'x': 0.38706563706563707, 'y': 0.821078431372549},\n",
    "         {'x': 0.5521235521235521, 'y': 0.8639705882352942},\n",
    "         {'x': 0.6042471042471043, 'y': 0.8578431372549019},\n",
    "         {'x': 0.584942084942085, 'y': 0.6605392156862745},\n",
    "         {'x': 0.5521235521235521, 'y': 0.5747549019607843},\n",
    "         {'x': 0.4922779922779923, 'y': 0.5343137254901961},\n",
    "         {'x': 0.38803088803088803, 'y': 0.5012254901960784}]\n",
    "a = draw_point(point)"
   ]
  },
  {
   "cell_type": "code",
   "execution_count": 36,
   "metadata": {},
   "outputs": [
    {
     "data": {
      "text/plain": [
       "[[2.8571428571428568, 5.502450980392157],\n",
       " [2.027027027027027, 6.629901960784314],\n",
       " [1.5154440154440154, 7.120098039215686],\n",
       " [1.8436293436293436, 7.58578431372549],\n",
       " [3.870656370656371, 8.21078431372549],\n",
       " [5.521235521235521, 8.639705882352942],\n",
       " [6.042471042471043, 8.57843137254902],\n",
       " [5.84942084942085, 6.605392156862745],\n",
       " [5.521235521235521, 5.747549019607843],\n",
       " [4.922779922779923, 5.3431372549019605],\n",
       " [3.8803088803088803, 5.012254901960784]]"
      ]
     },
     "execution_count": 36,
     "metadata": {},
     "output_type": "execute_result"
    }
   ],
   "source": [
    "polygon(point,10,10)"
   ]
  },
  {
   "cell_type": "code",
   "execution_count": null,
   "metadata": {},
   "outputs": [],
   "source": []
  }
 ],
 "metadata": {
  "kernelspec": {
   "display_name": "Python 3",
   "language": "python",
   "name": "python3"
  },
  "language_info": {
   "codemirror_mode": {
    "name": "ipython",
    "version": 3
   },
   "file_extension": ".py",
   "mimetype": "text/x-python",
   "name": "python",
   "nbconvert_exporter": "python",
   "pygments_lexer": "ipython3",
   "version": "3.7.5"
  }
 },
 "nbformat": 4,
 "nbformat_minor": 2
}
